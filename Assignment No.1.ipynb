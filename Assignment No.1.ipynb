{
 "cells": [
  {
   "cell_type": "code",
   "execution_count": 1,
   "id": "d4af9592-126c-4943-a8b6-7b59a521f808",
   "metadata": {},
   "outputs": [],
   "source": [
    "import pandas as pd\n",
    "import numpy as np"
   ]
  },
  {
   "cell_type": "code",
   "execution_count": 7,
   "id": "7a426637-2c5f-45f8-9617-7d62e5c617f0",
   "metadata": {},
   "outputs": [],
   "source": [
    "ds = pd.read_csv(\"C:/Users/ayush/Downloads/Customers - Customers.csv\")"
   ]
  },
  {
   "cell_type": "code",
   "execution_count": 10,
   "id": "c2176a43-141b-491b-b561-979b36278da4",
   "metadata": {},
   "outputs": [],
   "source": [
    "shape = ds.shape"
   ]
  },
  {
   "cell_type": "code",
   "execution_count": 43,
   "id": "0a72e564-0f91-4629-a82f-043d2a9dc6fa",
   "metadata": {},
   "outputs": [
    {
     "name": "stdout",
     "output_type": "stream",
     "text": [
      "(2000, 8)\n"
     ]
    }
   ],
   "source": [
    "print(shape)"
   ]
  },
  {
   "cell_type": "code",
   "execution_count": 45,
   "id": "a86773e6-a887-4e37-b994-69f8f9040a1a",
   "metadata": {},
   "outputs": [
    {
     "name": "stdout",
     "output_type": "stream",
     "text": [
      "CustomerID                 0\n",
      "Gender                     0\n",
      "Age                        0\n",
      "Annual Income ($)          0\n",
      "Spending Score (1-100)     0\n",
      "Profession                35\n",
      "Work Experience            0\n",
      "Family Size                0\n",
      "dtype: int64\n"
     ]
    }
   ],
   "source": [
    "missing_values = ds.isnull().sum()\n",
    "print(missing_values)"
   ]
  },
  {
   "cell_type": "code",
   "execution_count": 49,
   "id": "6631c69b-8aea-4385-b408-f125d5e54f72",
   "metadata": {},
   "outputs": [
    {
     "name": "stdout",
     "output_type": "stream",
     "text": [
      "CustomerID                 int64\n",
      "Gender                    object\n",
      "Age                        int64\n",
      "Annual Income ($)          int64\n",
      "Spending Score (1-100)     int64\n",
      "Profession                object\n",
      "Work Experience            int64\n",
      "Family Size                int64\n",
      "dtype: object\n"
     ]
    }
   ],
   "source": [
    "data_types = ds.dtypes\n",
    "print(data_types)"
   ]
  },
  {
   "cell_type": "code",
   "execution_count": 57,
   "id": "9e818097-5aa0-4206-9473-0a4b6bd25752",
   "metadata": {},
   "outputs": [
    {
     "name": "stdout",
     "output_type": "stream",
     "text": [
      "CustomerID                  0\n",
      "Gender                      0\n",
      "Age                        24\n",
      "Annual Income ($)           2\n",
      "Spending Score (1-100)      2\n",
      "Profession                  0\n",
      "Work Experience           431\n",
      "Family Size                 0\n",
      "dtype: int64\n"
     ]
    }
   ],
   "source": [
    "zeros_count = (ds == 0).sum()\n",
    "print(zeros_count)"
   ]
  },
  {
   "cell_type": "code",
   "execution_count": 59,
   "id": "02754eae-8ce9-4b5b-af2a-84ae6e7e23dd",
   "metadata": {},
   "outputs": [
    {
     "name": "stdout",
     "output_type": "stream",
     "text": [
      "   CustomerID  Gender  Age  Annual Income ($)  Spending Score (1-100)  \\\n",
      "0           1    Male   19              15000                      39   \n",
      "1           2    Male   21              35000                      81   \n",
      "2           3  Female   20              86000                       6   \n",
      "3           4  Female   23              59000                      77   \n",
      "4           5  Female   31              38000                      40   \n",
      "\n",
      "      Profession  Work Experience  Family Size  \n",
      "0     Healthcare                1            4  \n",
      "1       Engineer                3            3  \n",
      "2       Engineer                1            1  \n",
      "3         Lawyer                0            2  \n",
      "4  Entertainment                2            6  \n"
     ]
    }
   ],
   "source": [
    "selected_data = ds.iloc[:5] \n",
    "print(selected_data)"
   ]
  },
  {
   "cell_type": "code",
   "execution_count": 71,
   "id": "8d0a1fa7-788d-4933-a302-ce3df12531ba",
   "metadata": {},
   "outputs": [
    {
     "name": "stdout",
     "output_type": "stream",
     "text": [
      "      CustomerID  Gender  Age  Annual Income ($)  Spending Score (1-100)  \\\n",
      "0              1    Male   19              15000                      39   \n",
      "1              2    Male   21              35000                      81   \n",
      "2              3  Female   20              86000                       6   \n",
      "3              4  Female   23              59000                      77   \n",
      "4              5  Female   31              38000                      40   \n",
      "...          ...     ...  ...                ...                     ...   \n",
      "1995        1996  Female   71             184387                      40   \n",
      "1996        1997  Female   91              73158                      32   \n",
      "1997        1998    Male   87              90961                      14   \n",
      "1998        1999    Male   77             182109                       4   \n",
      "1999        2000    Male   90             110610                      52   \n",
      "\n",
      "         Profession  Work Experience  Family Size  \n",
      "0        Healthcare                1            4  \n",
      "1          Engineer                3            3  \n",
      "2          Engineer                1            1  \n",
      "3            Lawyer                0            2  \n",
      "4     Entertainment                2            6  \n",
      "...             ...              ...          ...  \n",
      "1995         Artist                8            7  \n",
      "1996         Doctor                7            7  \n",
      "1997     Healthcare                9            2  \n",
      "1998      Executive                7            2  \n",
      "1999  Entertainment                5            2  \n",
      "\n",
      "[2000 rows x 8 columns]\n"
     ]
    }
   ],
   "source": [
    "sorted_data = ds.sort_values(by=ds.columns[0])\n",
    "print(sorted_data)"
   ]
  },
  {
   "cell_type": "code",
   "execution_count": 73,
   "id": "105016b4-5316-4e7f-b645-37822afe34df",
   "metadata": {},
   "outputs": [
    {
     "name": "stdout",
     "output_type": "stream",
     "text": [
      "        CustomerID          Age  Annual Income ($)  Spending Score (1-100)  \\\n",
      "count  2000.000000  2000.000000        2000.000000             2000.000000   \n",
      "mean   1000.500000    48.960000      110731.821500               50.962500   \n",
      "std     577.494589    28.429747       45739.536688               27.934661   \n",
      "min       1.000000     0.000000           0.000000                0.000000   \n",
      "25%     500.750000    25.000000       74572.000000               28.000000   \n",
      "50%    1000.500000    48.000000      110045.000000               50.000000   \n",
      "75%    1500.250000    73.000000      149092.750000               75.000000   \n",
      "max    2000.000000    99.000000      189974.000000              100.000000   \n",
      "\n",
      "       Work Experience  Family Size  \n",
      "count      2000.000000  2000.000000  \n",
      "mean          4.102500     3.768500  \n",
      "std           3.922204     1.970749  \n",
      "min           0.000000     1.000000  \n",
      "25%           1.000000     2.000000  \n",
      "50%           3.000000     4.000000  \n",
      "75%           7.000000     5.000000  \n",
      "max          17.000000     9.000000  \n"
     ]
    }
   ],
   "source": [
    "summary_statistics = ds.describe()\n",
    "print(summary_statistics)"
   ]
  },
  {
   "cell_type": "code",
   "execution_count": 75,
   "id": "026e35d0-3c33-450a-aa32-d44712206733",
   "metadata": {},
   "outputs": [
    {
     "name": "stdout",
     "output_type": "stream",
     "text": [
      "CustomerID                 int64\n",
      "Gender                    object\n",
      "Age                        int64\n",
      "Annual Income ($)          int64\n",
      "Spending Score (1-100)     int64\n",
      "Profession                object\n",
      "Work Experience            int64\n",
      "Family Size                int64\n",
      "dtype: object CustomerID                2000\n",
      "Gender                       2\n",
      "Age                        100\n",
      "Annual Income ($)         1786\n",
      "Spending Score (1-100)     101\n",
      "Profession                   9\n",
      "Work Experience             18\n",
      "Family Size                  9\n",
      "dtype: int64\n"
     ]
    }
   ],
   "source": [
    "unique_counts = ds.nunique()\n",
    "data_format = ds.dtypes.astype(str)\n",
    "print(data_format,unique_counts)"
   ]
  },
  {
   "cell_type": "code",
   "execution_count": 77,
   "id": "9d7aea38-95ca-4d7c-8924-cc170910a75f",
   "metadata": {},
   "outputs": [
    {
     "name": "stdout",
     "output_type": "stream",
     "text": [
      "      CustomerID  Gender  Age  Annual Income ($)  Spending Score (1-100)  \\\n",
      "0              1    Male   19              15000                      39   \n",
      "1              2    Male   21             -30536                      81   \n",
      "2              3  Female   20              20464                       6   \n",
      "3              4  Female   23              -6536                      77   \n",
      "4              5  Female   31             -27536                      40   \n",
      "...          ...     ...  ...                ...                     ...   \n",
      "1995        1996  Female   71             -12221                      40   \n",
      "1996        1997  Female   91               7622                      32   \n",
      "1997        1998    Male   87              25425                      14   \n",
      "1998        1999    Male   77             -14499                       4   \n",
      "1999        2000    Male   90             -20462                      52   \n",
      "\n",
      "         Profession  Work Experience  Family Size  \n",
      "0        Healthcare                1            4  \n",
      "1          Engineer                3            3  \n",
      "2          Engineer                1            1  \n",
      "3            Lawyer                0            2  \n",
      "4     Entertainment                2            6  \n",
      "...             ...              ...          ...  \n",
      "1995         Artist                8            7  \n",
      "1996         Doctor                7            7  \n",
      "1997     Healthcare                9            2  \n",
      "1998      Executive                7            2  \n",
      "1999  Entertainment                5            2  \n",
      "\n",
      "[2000 rows x 8 columns]\n"
     ]
    }
   ],
   "source": [
    "df_converted = ds.copy()\n",
    "for col in ds.select_dtypes(include=['float64', 'int64']).columns:\n",
    "    df_converted[col] = ds[col].astype('int16') \n",
    "print(df_converted )"
   ]
  },
  {
   "cell_type": "code",
   "execution_count": null,
   "id": "1731e52d-c285-43ed-b697-15830b49a297",
   "metadata": {},
   "outputs": [],
   "source": []
  }
 ],
 "metadata": {
  "kernelspec": {
   "display_name": "Python [conda env:base] *",
   "language": "python",
   "name": "conda-base-py"
  },
  "language_info": {
   "codemirror_mode": {
    "name": "ipython",
    "version": 3
   },
   "file_extension": ".py",
   "mimetype": "text/x-python",
   "name": "python",
   "nbconvert_exporter": "python",
   "pygments_lexer": "ipython3",
   "version": "3.12.7"
  }
 },
 "nbformat": 4,
 "nbformat_minor": 5
}
